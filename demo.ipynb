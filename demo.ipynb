{
 "cells": [
  {
   "cell_type": "markdown",
   "id": "ea860aef",
   "metadata": {},
   "source": [
    "# Wiki Auto Deck\n",
    "\n",
    "### Quick Demo"
   ]
  },
  {
   "cell_type": "code",
   "execution_count": 1,
   "id": "8842f451",
   "metadata": {},
   "outputs": [],
   "source": [
    "from generate_deck import generate_deck\n",
    "from classes import ApiSession"
   ]
  },
  {
   "cell_type": "markdown",
   "id": "3d0a9534",
   "metadata": {},
   "source": [
    "All Wikipedia API requests are made through an ApiSession object."
   ]
  },
  {
   "cell_type": "code",
   "execution_count": 2,
   "id": "eca68a46",
   "metadata": {},
   "outputs": [],
   "source": [
    "S = ApiSession()"
   ]
  },
  {
   "cell_type": "markdown",
   "id": "9332c04a",
   "metadata": {},
   "source": [
    "The user may input any term. If the term has a valid Wikipedia article associated with it, validate_term() returns that term."
   ]
  },
  {
   "cell_type": "code",
   "execution_count": 3,
   "id": "6112e1b9",
   "metadata": {},
   "outputs": [
    {
     "name": "stdout",
     "output_type": "stream",
     "text": [
      "Buddhism matches the page Buddhism on Wikipedia!\n"
     ]
    }
   ],
   "source": [
    "term = \"Buddhism\"\n",
    "article_title = S.validate_term(term)"
   ]
  },
  {
   "cell_type": "markdown",
   "id": "6ab104fb",
   "metadata": {},
   "source": [
    "If the term doesn't match or redirect to a Wikipedia article, validate_term() returns a list of search results of Wikipedia articles that may match the user's term."
   ]
  },
  {
   "cell_type": "code",
   "execution_count": 4,
   "id": "8965c367",
   "metadata": {},
   "outputs": [
    {
     "name": "stdout",
     "output_type": "stream",
     "text": [
      "artomobiles doesn't match a page on Wikipedia.\n",
      "Term not recognized. Please select a suggestion:\n",
      "1 Automobiles Alpine\n",
      "2 Automobiles Darracq France\n",
      "3 Automobiles Gonfaronnaises Sportives\n",
      "4 Automobiles L. Rosengart\n",
      "5 Automobiles Talbot France\n",
      "6 Automobiles Lombard\n",
      "7 Car\n",
      "8 Automobiles Rally\n",
      "9 Automobiles Martini\n",
      "10 Automobiles ERAD\n",
      "Enter number of term: 7\n"
     ]
    }
   ],
   "source": [
    "term = \"artomobiles\"\n",
    "article_title = S.validate_term(term)"
   ]
  },
  {
   "cell_type": "code",
   "execution_count": 5,
   "id": "f47970c4",
   "metadata": {},
   "outputs": [
    {
     "data": {
      "text/plain": [
       "'Car'"
      ]
     },
     "execution_count": 5,
     "metadata": {},
     "output_type": "execute_result"
    }
   ],
   "source": [
    "article_title"
   ]
  },
  {
   "cell_type": "markdown",
   "id": "a31e6e8f",
   "metadata": {},
   "source": [
    "In cases where the entered term automatically redirects when searched on Wikipedia, validate_term() returns the redirect target."
   ]
  },
  {
   "cell_type": "code",
   "execution_count": 6,
   "id": "912bf293",
   "metadata": {},
   "outputs": [
    {
     "name": "stdout",
     "output_type": "stream",
     "text": [
      "zen buddhism matches the page Zen on Wikipedia!\n"
     ]
    }
   ],
   "source": [
    "term = \"zen buddhism\"\n",
    "article_title = S.validate_term(term)"
   ]
  },
  {
   "cell_type": "markdown",
   "id": "e3a7e251",
   "metadata": {},
   "source": [
    "Once we have our article title, we can set the number of related pages we'd like returned for our deck and the length of the descriptions we'd like associated with those cards. \n",
    "\n",
    "The script is designed to pull the most related articles from a pool of the longest articles linked from your root page. The pool of longest linked articles is set to be ten times bigger than the eventual deck. So in this case, we pull the 300 longest articles linked from Zen and perform a TF-IDF comparison to find pages most similar to Zen."
   ]
  },
  {
   "cell_type": "markdown",
   "id": "462818bd",
   "metadata": {},
   "source": [
    "A note on TF-IDF implementation:\n",
    "\n",
    "`\n",
    "vect = TfidfVectorizer(stop_words=\"english\", ngram_range=(1,3))\n",
    "tfidf = vect.fit_transform(corpus)\n",
    "pairwise_similarity = tfidf * tfidf.T\n",
    "arr = pairwise_similarity.toarray()\n",
    "np.fill_diagonal(arr, np.nan)\n",
    "root_similarity = arr[0]\n",
    "`\n",
    "\n",
    "We use English stop words and collect unigrams, bigrams, and trigrams for our analysis. We only need the similarities of each longest linked article to the root article, so we pull only the first array in the pairwise similarity matrix."
   ]
  },
  {
   "cell_type": "code",
   "execution_count": 7,
   "id": "da20c077",
   "metadata": {},
   "outputs": [],
   "source": [
    "deck_size = 30\n",
    "desc_length = 0"
   ]
  },
  {
   "cell_type": "code",
   "execution_count": 8,
   "id": "b3001ab7",
   "metadata": {},
   "outputs": [
    {
     "name": "stdout",
     "output_type": "stream",
     "text": [
      "Pulling article lengths...\n"
     ]
    },
    {
     "name": "stderr",
     "output_type": "stream",
     "text": [
      "100%|██████████████████████████████████████████████████████████████████████████████████| 30/30 [00:20<00:00,  1.50it/s]\n"
     ]
    },
    {
     "name": "stdout",
     "output_type": "stream",
     "text": [
      "Pulling article extracts...\n"
     ]
    },
    {
     "name": "stderr",
     "output_type": "stream",
     "text": [
      "100%|████████████████████████████████████████████████████████████████████████████████| 300/300 [00:37<00:00,  7.91it/s]\n"
     ]
    }
   ],
   "source": [
    "cards, all_similars = generate_deck(S, article_title, deck_size, desc_length)"
   ]
  },
  {
   "cell_type": "code",
   "execution_count": 9,
   "id": "e725a753",
   "metadata": {},
   "outputs": [
    {
     "data": {
      "text/plain": [
       "dict"
      ]
     },
     "execution_count": 9,
     "metadata": {},
     "output_type": "execute_result"
    }
   ],
   "source": [
    "type(cards)"
   ]
  },
  {
   "cell_type": "markdown",
   "id": "37e0a30d",
   "metadata": {},
   "source": [
    "We now have a handy dictionary keyed by article title, with values of extracted introductions."
   ]
  },
  {
   "cell_type": "code",
   "execution_count": 10,
   "id": "052b40b4",
   "metadata": {},
   "outputs": [
    {
     "name": "stdout",
     "output_type": "stream",
     "text": [
      "0 Chan Buddhism\n",
      "1 Dharma transmission\n",
      "2 Chinese Buddhism\n",
      "3 Buddhism in the United States\n",
      "4 Buddhist meditation\n",
      "5 Kenshō\n",
      "6 Buddhism in Japan\n",
      "7 Korean Buddhism\n",
      "8 Buddhism\n",
      "9 Buddhism in the West\n",
      "10 Dhyāna in Buddhism\n",
      "11 Meditation\n",
      "12 Buddhist texts\n",
      "13 Faith in Buddhism\n",
      "14 Mahayana\n",
      "15 Buddha-nature\n",
      "16 Bodhidharma\n",
      "17 Buddhist philosophy\n",
      "18 Buddhism and psychology\n",
      "19 Tiantai\n",
      "20 Tang dynasty\n",
      "21 Tendai\n",
      "22 Lotus Sutra\n",
      "23 Vajrayana\n",
      "24 Outline of Buddhism\n",
      "25 Buddhist art\n",
      "26 Chinese folk religion\n",
      "27 Mahayana sutras\n",
      "28 Tibetan Buddhism\n",
      "29 Buddhist devotion\n"
     ]
    }
   ],
   "source": [
    "titles = list(cards.keys())\n",
    "for i,title in enumerate(titles):\n",
    "    print(i,title)"
   ]
  },
  {
   "cell_type": "code",
   "execution_count": 11,
   "id": "050cb7c0",
   "metadata": {},
   "outputs": [
    {
     "data": {
      "text/plain": [
       "'Tendai (天台宗, Tendai-shū), also known as the Tendai Lotus School (天台法華宗 Tendai hokke shū, sometimes just \"hokke shū\") is a Mahāyāna Buddhist tradition (with significant esoteric elements) officially established in Japan in 806 by the Japanese monk Saichō (posthumously known as Dengyō Daishi). The Tendai school, which has been based on Mount Hiei since its inception, rose to prominence during the Heian period (794-1185). It gradually eclipsed the powerful Hossō school and competed with the rival Shingon school to become the most influential sect at the Imperial court.\\nBy the Kamakura period (1185-1333), Tendai had become one of the dominant forms of Japanese Buddhism, with numerous temples and vast landholdings. During the Kamakura period, various monks left Tendai (seeing it as corrupt) to establish their own \"new\" or \"Kamakura\" Buddhist schools such as Jōdo-shū, Nichiren-shū and Sōtō Zen. The destruction of the head temple of Enryaku-ji by Oda Nobunaga in 1571, as well as the geographic shift of the capital away from Kyoto to Edo, further weakened Tendai\\'s influence.In Chinese and Japanese, its name is identical to Tiantai, its parent school of Chinese Buddhism. Both traditions emphasize the importance of the Lotus Sutra and revere the teachings of Tiantai patriarchs, especially Zhiyi. In English, the Japanese romanization distinguishes the unique features of the Japanese tradition. According to Hazama Jikō, the main characteristic of Tendai \"is its advocacy of a comprehensive Buddhism...the idea that all the teachings of the Buddha are ultimately without contradiction and can be unified in one comprehensive and perfect system.\"Other unique elements include an exclusive use of the bodhisattva precepts for ordination (without the pratimoksha), a practice tradition based on the \"Four Integrated Schools\" (Pure Land, Zen, Mikkyo and Precepts), and an emphasis on the study of Chinese Esoteric Buddhist sources. David W. Chappell sees Tendai as \"the most comprehensive and diversified\" Buddhist tradition which provides a religious framework that is \"suited to adapt to other cultures, to evolve new practices, and to universalize Buddhism.\"'"
      ]
     },
     "execution_count": 11,
     "metadata": {},
     "output_type": "execute_result"
    }
   ],
   "source": [
    "cards[titles[21]]"
   ]
  },
  {
   "cell_type": "markdown",
   "id": "c53c5226",
   "metadata": {},
   "source": [
    "### A closer look at the TF-IDF results"
   ]
  },
  {
   "cell_type": "markdown",
   "id": "506fa8dc",
   "metadata": {},
   "source": [
    "By digging into all_similars, we can see how TF-IDF ranks pages behind the scenes."
   ]
  },
  {
   "cell_type": "code",
   "execution_count": 12,
   "id": "3f1cc200",
   "metadata": {},
   "outputs": [
    {
     "data": {
      "text/plain": [
       "[('Zen', nan),\n",
       " ('Chan Buddhism', 0.45265095142070144),\n",
       " ('Dharma transmission', 0.19256214432855379),\n",
       " ('Chinese Buddhism', 0.18318075130470943),\n",
       " ('Buddhism in the United States', 0.18295429967032492),\n",
       " ('Buddhist meditation', 0.17817762615900373),\n",
       " ('Kenshō', 0.17673088183878244),\n",
       " ('Buddhism in Japan', 0.15965985073465755),\n",
       " ('Korean Buddhism', 0.1446147214122153),\n",
       " ('Buddhism', 0.14288809755153903),\n",
       " ('Buddhism in the West', 0.1424171337906724),\n",
       " ('Dhyāna in Buddhism', 0.1298075167521294),\n",
       " ('Meditation', 0.11779079537051218),\n",
       " ('Buddhist texts', 0.11711609699510328),\n",
       " ('Faith in Buddhism', 0.11621463959874004),\n",
       " ('Mahayana', 0.11620026539851243),\n",
       " ('Buddha-nature', 0.1151897881416502),\n",
       " ('Bodhidharma', 0.1127201297101709),\n",
       " ('Buddhist philosophy', 0.11196094803961604),\n",
       " ('Buddhism and psychology', 0.10879579678983695),\n",
       " ('Tiantai', 0.10837979607372757),\n",
       " ('Tang dynasty', 0.1041955795798917),\n",
       " ('Tendai', 0.09864107606867198),\n",
       " ('Lotus Sutra', 0.09356124401011262),\n",
       " ('Vajrayana', 0.09237758629632521),\n",
       " ('Outline of Buddhism', 0.08996958388174028),\n",
       " ('Buddhist art', 0.08879837419747465),\n",
       " ('Chinese folk religion', 0.08732104904869743),\n",
       " ('Mahayana sutras', 0.08703891228747936),\n",
       " ('Tibetan Buddhism', 0.08473096368234986),\n",
       " ('Buddhist devotion', 0.08412194747144168),\n",
       " ('Buddhist ethics', 0.08287990140513952),\n",
       " ('Women in Buddhism', 0.08169864464237196),\n",
       " ('Ink wash painting', 0.0808133945193837),\n",
       " ('Buddhism and science', 0.08080345964811489),\n",
       " ('Nondualism', 0.07915190630977686),\n",
       " ('Theravada', 0.07545885334701824),\n",
       " ('Heart Sutra', 0.07418448925341822),\n",
       " ('Chinese martial arts', 0.07413883744363535),\n",
       " ('Gautama Buddha', 0.07207056172470969),\n",
       " ('Buddhism in Myanmar', 0.07172760811568764),\n",
       " ('Song dynasty', 0.07088647585818904),\n",
       " ('China', 0.07033954246426571),\n",
       " ('Pre-sectarian Buddhism', 0.07020249176290613),\n",
       " ('Taoism', 0.06945851795586389),\n",
       " ('Chinese language', 0.06939217965755842),\n",
       " ('Dharani', 0.069158237217335),\n",
       " ('Korea under Japanese rule', 0.06792181061139352),\n",
       " ('Buddhist symbolism', 0.06741666588129205),\n",
       " ('Religion in Japan', 0.06684305900972143),\n",
       " ('Mindfulness', 0.06502408946677475),\n",
       " ('Overseas Chinese', 0.06501636083666913),\n",
       " ('Śūnyatā', 0.06466736000966768),\n",
       " ('Japanese language', 0.06454466126109097),\n",
       " ('Buddhism in Thailand', 0.06259613206310508),\n",
       " ('Tantra', 0.06187618802557512),\n",
       " ('Mantra', 0.06075872982443224),\n",
       " ('Mahākāśyapa', 0.06037499632592147),\n",
       " ('Ming dynasty', 0.059989716450221026),\n",
       " ('Japanese garden', 0.05972569705730878),\n",
       " ('Five precepts', 0.05956729532772085),\n",
       " ('Guanyin', 0.05915291536531116),\n",
       " ('Qing dynasty', 0.05897247845644442),\n",
       " ('Madhyamaka', 0.05823023849268),\n",
       " ('Yogachara', 0.0570366118829213),\n",
       " ('Korea', 0.055227755172378275),\n",
       " ('Satipatthana', 0.055152346061148806),\n",
       " ('Buddhism in Sri Lanka', 0.05472754621877576),\n",
       " ('Nichiren Buddhism', 0.05456516278940445),\n",
       " ('Nichiren', 0.054330615462399895),\n",
       " ('Japan', 0.05363725611456621),\n",
       " ('Samadhi', 0.052976317182234944),\n",
       " ('Abhidharma', 0.05257863000067057),\n",
       " ('Yoga', 0.05216819931166443),\n",
       " ('Xuanzang', 0.05206749187067201),\n",
       " ('Buddhism and Hinduism', 0.051981578405849965),\n",
       " ('Four Noble Truths', 0.05151366134112287),\n",
       " ('Mysticism', 0.051426710752064606),\n",
       " ('Goryeo', 0.05069108789901405),\n",
       " ('Deity yoga', 0.05029739408711145),\n",
       " ('Buddhism and violence', 0.04714136720879587),\n",
       " ('Nirvana (Buddhism)', 0.04649041775905742),\n",
       " ('Joseon', 0.045779785780909396),\n",
       " ('Karma in Buddhism', 0.04508120669938653),\n",
       " ('Confucianism', 0.04459630875620852),\n",
       " ('Dzogchen', 0.04352852419071911),\n",
       " ('Taiwan', 0.04345260611117192),\n",
       " ('Samurai', 0.042421025381321774),\n",
       " ('Standard Chinese', 0.04240289205541892),\n",
       " ('Indian religions', 0.0423986323286868),\n",
       " ('Greco-Buddhist art', 0.04203221974038209),\n",
       " ('Persecution of Buddhists', 0.04182572811492632),\n",
       " ('Rebirth (Buddhism)', 0.041729106897970665),\n",
       " ('Missionary', 0.04139935445682097),\n",
       " ('Kanji', 0.04047551888451612),\n",
       " ('Henan', 0.04040064666902717),\n",
       " ('Korean language', 0.03941257399932444),\n",
       " ('Shinto', 0.03928132629957103),\n",
       " ('Merit (Buddhism)', 0.038459429786934556),\n",
       " ('South Korea', 0.038366027855826476),\n",
       " ('Bhikkhunī', 0.03822689383853568),\n",
       " ('Vietnamese language', 0.038224386649426935),\n",
       " ('Noble Eightfold Path', 0.03814591137652694),\n",
       " ('Pinyin', 0.03780816164639749),\n",
       " ('Śāriputra', 0.03776107606083861),\n",
       " ('Vietnam', 0.037345309793551065),\n",
       " ('Cantonese', 0.03704642144622458),\n",
       " ('Religion', 0.03692312985059776),\n",
       " ('Hinduism', 0.036705686451504765),\n",
       " ('Spirituality', 0.035985720604644646),\n",
       " ('Prayer', 0.03554856143451968),\n",
       " ('Han dynasty', 0.03453275176854844),\n",
       " ('Maudgalyayana', 0.03425888066450238),\n",
       " ('Religious experience', 0.03384937135721846),\n",
       " ('Skandha', 0.03381272218902496),\n",
       " ('Nīlakaṇṭha Dhāraṇī', 0.033627756410534816),\n",
       " ('Pratītyasamutpāda', 0.032955676837241266),\n",
       " ('Manichaeism', 0.032937993095041126),\n",
       " ('Ānanda', 0.03259421636588496),\n",
       " ('Dharma', 0.03186514868020826),\n",
       " ('Shaivism', 0.031312918806871204),\n",
       " ('Rāhula', 0.03066229076753424),\n",
       " ('Sanskrit', 0.030349429879479802),\n",
       " ('Simplified Chinese characters', 0.02986495145446704),\n",
       " ('Cultural Revolution', 0.028947570489783716),\n",
       " ('Ritual', 0.028902222596018278),\n",
       " ('Relationship between religion and science', 0.028619723725925205),\n",
       " ('Hangul', 0.028437191143734858),\n",
       " ('Wu Zetian', 0.028279780820419955),\n",
       " ('Jainism', 0.027861490236677573),\n",
       " ('Homosexuality and religion', 0.02693749294887974),\n",
       " ('Hokkien', 0.026391596468225365),\n",
       " ('Faith', 0.02621869007340412),\n",
       " ('Vegetarianism and religion', 0.025927478017087613),\n",
       " ('Ashoka', 0.025814723571006414),\n",
       " ('Christianity', 0.025653351402957582),\n",
       " ('Religious pluralism', 0.02555583817410557),\n",
       " ('Hasidic Judaism', 0.02537744417956627),\n",
       " ('Falun Gong', 0.025360047731936397),\n",
       " ('Ancient Egyptian religion', 0.025098396430275248),\n",
       " ('Hong Kong', 0.025032302829832837),\n",
       " ('Theosophy', 0.02502173215738146),\n",
       " ('Trần dynasty', 0.024990271062895638),\n",
       " ('Religious persecution', 0.02393596169366438),\n",
       " ('Islam', 0.023884371425263628),\n",
       " ('Dalai Lama', 0.023840486607908017),\n",
       " ('Gnosticism', 0.02374510187333036),\n",
       " ('Aṅgulimāla', 0.023685153787269556),\n",
       " ('Protestantism', 0.023479264080215938),\n",
       " ('Sufism', 0.023389236859096153),\n",
       " ('Judaism', 0.023263409705445395),\n",
       " ('Candi of Indonesia', 0.023236366654093232),\n",
       " ('Supernatural', 0.02319743561546391),\n",
       " ('Psychology of religion', 0.023168765792908975),\n",
       " ('State religion', 0.02298536167340556),\n",
       " ('Apophatic theology', 0.022826733872451994),\n",
       " ('Growth of religion', 0.022639129218882288),\n",
       " ('Pe̍h-ōe-jī', 0.022541013006966357),\n",
       " ('Prehistoric religion', 0.022540903830491957),\n",
       " ('Allen Ginsberg', 0.02246963625009943),\n",
       " ('Philosophy of religion', 0.0224466139156456),\n",
       " ('Islamic schools and branches', 0.022391838257745746),\n",
       " ('Vaishnavism', 0.022321848725668593),\n",
       " ('Miao people', 0.022319193579828724),\n",
       " ('Padmasambhāva', 0.0220461777124194),\n",
       " ('Abrahamic religions', 0.021851041996132296),\n",
       " ('Maya religion', 0.02164528811842039),\n",
       " ('Zoroastrianism', 0.02152885872185433),\n",
       " ('Pali', 0.021301710661349973),\n",
       " ('Monotheism', 0.020943267857265302),\n",
       " ('Buddhist cosmology', 0.02079834365580944),\n",
       " ('Religion in ancient Rome', 0.020553376531729013),\n",
       " ('Reform Judaism', 0.020459223328118642),\n",
       " ('Latin Church', 0.02045053160313634),\n",
       " ('Orthodox Judaism', 0.020375935115451722),\n",
       " ('Historical Vedic religion', 0.020326170251310418),\n",
       " ('Modern Paganism', 0.020323515152052437),\n",
       " ('Shaktism', 0.0202073130943752),\n",
       " ('New Age', 0.02009105083644377),\n",
       " ('Wicca', 0.01989683610997795),\n",
       " ('Oxford University Press', 0.019703717081404434),\n",
       " ('Criticism of religion', 0.019672273429580615),\n",
       " ('Altaic languages', 0.019455113080438974),\n",
       " ('Atheism', 0.019439455864148695),\n",
       " ('Evangelicalism', 0.01936904983994582),\n",
       " ('Chicago', 0.01924795762088163),\n",
       " ('Catholic Church', 0.01901839902582092),\n",
       " ('Jack Kerouac', 0.01892297381959438),\n",
       " ('Sri Vaishnavism', 0.018729439363719326),\n",
       " ('Heathenry (new religious movement)', 0.018648181063197527),\n",
       " ('Entheogen', 0.018443381146175015),\n",
       " ('Eastern Orthodox Church', 0.018356278396801123),\n",
       " ('Greek mythology', 0.01833272072950815),\n",
       " ('Swastika', 0.017962951116215844),\n",
       " ('Separation of church and state', 0.017935000283319333),\n",
       " ('Anthroposophy', 0.017897005785554802),\n",
       " ('Anglicanism', 0.017895766522425183),\n",
       " ('Salafi movement', 0.017840591942071857),\n",
       " ('Slavic Native Faith', 0.017745282100857827),\n",
       " ('Freedom of religion', 0.01755145081198517),\n",
       " ('Old Norse religion', 0.017544906639013837),\n",
       " ('Agni Yoga', 0.017502823296580036),\n",
       " ('Tai peoples', 0.017409319975290844),\n",
       " ('Conservative Judaism', 0.017379829916523468),\n",
       " ('Druidry (modern)', 0.016893885438937373),\n",
       " ('Candomblé', 0.016844226928342556),\n",
       " ('Ainu people', 0.016626700051745092),\n",
       " ('Deity', 0.01638567209654962),\n",
       " (\"Isma'ilism\", 0.01636285499621041),\n",
       " ('Stanford University', 0.016299775654241233),\n",
       " ('Satanism', 0.01625979131409426),\n",
       " ('Animism', 0.016253748475968548),\n",
       " ('Rajneesh movement', 0.016186120538703955),\n",
       " ('Kashmir', 0.015976003160778407),\n",
       " ('Lingayatism', 0.01592636541829029),\n",
       " ('Slavic paganism', 0.015766190235996617),\n",
       " ('God', 0.015662426221962216),\n",
       " ('Religious violence', 0.015524066850699467),\n",
       " ('Religion in pre-Islamic Arabia', 0.015491922240773868),\n",
       " ('Pantheism', 0.01548623756525343),\n",
       " ('Santería', 0.015464653547592504),\n",
       " ('Calvinism', 0.015456083164038062),\n",
       " ('Mysteries of Isis', 0.015426206673356578),\n",
       " ('Lutheranism', 0.015299223645180403),\n",
       " ('Parthian Empire', 0.01498925015001255),\n",
       " ('Pentecostalism', 0.014644945487227265),\n",
       " ('Cuban Missile Crisis', 0.01457470825209249),\n",
       " ('Sunni Islam', 0.014563156447969447),\n",
       " ('Wahhabism', 0.014531635284575885),\n",
       " ('Spiritualism', 0.01452681787517645),\n",
       " ('Indus Valley Civilisation', 0.01447073703240374),\n",
       " ('Nontrinitarianism', 0.014426772372234577),\n",
       " ('Alevism', 0.014346874021549714),\n",
       " ('Restoration Movement', 0.014274675736421948),\n",
       " ('Druid', 0.014208628731156258),\n",
       " ('Jewish religious movements', 0.014167669434796158),\n",
       " ('Mithraism', 0.013991214835315386),\n",
       " ('Quakers', 0.013987039345853651),\n",
       " ('Islamic modernism', 0.013887764379529766),\n",
       " ('Mormonism', 0.013807520833796728),\n",
       " ('Krishnaism', 0.013716049840691054),\n",
       " ('Methodism', 0.013656531316592613),\n",
       " ('Assyrian Church of the East', 0.013640569177802797),\n",
       " ('Agnosticism', 0.013527681088887595),\n",
       " ('Apostasy', 0.013513950635143037),\n",
       " ('Raëlism', 0.013469668866738718),\n",
       " ('Shia Islam', 0.013356689260831082),\n",
       " ('Tengrism', 0.013329172444542441),\n",
       " ('B. R. Ambedkar', 0.013317885206698745),\n",
       " ('Sikhism', 0.013305184494147691),\n",
       " ('Yazidism', 0.013088368848197375),\n",
       " ('Baháʼí Faith', 0.012862196952127041),\n",
       " ('LaVeyan Satanism', 0.012823978303892692),\n",
       " ('Deism', 0.012790067892165323),\n",
       " ('Haitian Vodou', 0.012772444169298578),\n",
       " ('The New Church (Swedenborgian)', 0.012763164626998799),\n",
       " ('Index of religion-related articles', 0.012741115599908943),\n",
       " ('Goddess movement', 0.012659750683407321),\n",
       " ('Secular humanism', 0.012421574106313026),\n",
       " ('Bábism', 0.012412633874564533),\n",
       " (\"Jehovah's Witnesses\", 0.012347384005964131),\n",
       " ('Swaminarayan Sampradaya', 0.01229171508843434),\n",
       " ('Ahmadiyya', 0.01223066096510459),\n",
       " ('Mandaeism', 0.012199235231624287),\n",
       " ('Cybele', 0.012082772630710578),\n",
       " ('Christadelphians', 0.011964261594062449),\n",
       " ('Baptists', 0.011783819590237742),\n",
       " ('Anglo-Saxon paganism', 0.011548660882680162),\n",
       " ('Melanesian mythology', 0.01147428204243239),\n",
       " ('Abortion', 0.011426433277998171),\n",
       " ('Dayak people', 0.011389143573419242),\n",
       " ('Anabaptism', 0.011295390302416837),\n",
       " ('Karaite Judaism', 0.011162312807304692),\n",
       " ('Illyrian religion', 0.011092569093733753),\n",
       " ('Druze', 0.010958669026111006),\n",
       " ('Oneness Pentecostalism', 0.010892957951482716),\n",
       " ('Scientology', 0.010857152194950752),\n",
       " ('Ayyavazhi', 0.010810374567803762),\n",
       " ('Rastafari', 0.010774227721565067),\n",
       " ('Unitarian Universalism', 0.010739972426460727),\n",
       " ('Alawites', 0.010325970931873396),\n",
       " ('Kalash people', 0.010164856396966838),\n",
       " ('Haredi Judaism', 0.010100699477080342),\n",
       " ('Quranism', 0.010095282263188678),\n",
       " ('Unitarianism', 0.010006122698928845),\n",
       " ('Moravian Church', 0.009961013211014568),\n",
       " ('Objectivism', 0.00995109520390419),\n",
       " ('Hutterites', 0.009917833455100378),\n",
       " ('Austronesian languages', 0.00986989099688969),\n",
       " ('Presbyterianism', 0.009865743007543126),\n",
       " ('Eastern Catholic Churches', 0.009820285553451033),\n",
       " ('Navajo', 0.009699306992268081),\n",
       " ('Holiness movement', 0.009677437860125647),\n",
       " ('Waldensians', 0.00930492120860582),\n",
       " ('Miscarriage', 0.009200461131452854),\n",
       " ('Urartu', 0.009039008095659823),\n",
       " ('Mennonites', 0.008873070691361175),\n",
       " ('Scythian religion', 0.00855363846336809),\n",
       " ('Kharijites', 0.008295029982983154),\n",
       " ('Amish', 0.006899788467718553),\n",
       " ('Wayback Machine', 0.005011235325042925)]"
      ]
     },
     "execution_count": 12,
     "metadata": {},
     "output_type": "execute_result"
    }
   ],
   "source": [
    "all_similars"
   ]
  },
  {
   "cell_type": "markdown",
   "id": "882791f0",
   "metadata": {},
   "source": [
    "Zen and Chan Buddhism are shown to be very similar, as Zen is derived from Chan. The rest of the top results are all context about specific aspects or regions of the Zen tradition, and a few important terms, such as Kenshō and Dhyāna.\n",
    "\n",
    "We can see a contrasting example by looking at a different subject."
   ]
  },
  {
   "cell_type": "code",
   "execution_count": 13,
   "id": "c0804d94",
   "metadata": {},
   "outputs": [
    {
     "name": "stdout",
     "output_type": "stream",
     "text": [
      "stephen king matches the page Stephen King on Wikipedia!\n",
      "Pulling article lengths...\n"
     ]
    },
    {
     "name": "stderr",
     "output_type": "stream",
     "text": [
      "100%|██████████████████████████████████████████████████████████████████████████████████| 20/20 [00:13<00:00,  1.48it/s]\n"
     ]
    },
    {
     "name": "stdout",
     "output_type": "stream",
     "text": [
      "Pulling article extracts...\n"
     ]
    },
    {
     "name": "stderr",
     "output_type": "stream",
     "text": [
      "100%|████████████████████████████████████████████████████████████████████████████████| 300/300 [00:58<00:00,  5.14it/s]\n"
     ]
    }
   ],
   "source": [
    "term = \"stephen king\"\n",
    "article_title = S.validate_term(term)\n",
    "deck_size = 30\n",
    "desc_length = 0\n",
    "cards, all_similars = generate_deck(S, article_title, deck_size, desc_length)"
   ]
  },
  {
   "cell_type": "code",
   "execution_count": 15,
   "id": "34498020",
   "metadata": {},
   "outputs": [
    {
     "data": {
      "text/plain": [
       "['Steve King',\n",
       " 'Carrie (novel)',\n",
       " 'Stephen King bibliography',\n",
       " 'The Dark Tower (series)',\n",
       " 'Stephen King short fiction bibliography',\n",
       " 'Rose Red (miniseries)',\n",
       " 'Paul LePage',\n",
       " 'Joe Hill (novelist)',\n",
       " 'The Dark Tower (2017 film)',\n",
       " 'The Stand (1994 miniseries)',\n",
       " 'Randall Flagg',\n",
       " 'Maximum Overdrive',\n",
       " 'The Stand',\n",
       " 'The Shining (franchise)',\n",
       " 'The Shining (film)',\n",
       " '11/22/63',\n",
       " 'Carrie (1976 film)',\n",
       " 'Horror fiction',\n",
       " 'Castle Rock (Stephen King)',\n",
       " 'It (miniseries)',\n",
       " 'Ramsey Campbell',\n",
       " 'Simon & Schuster',\n",
       " 'Genre fiction',\n",
       " 'The Dark Tower (comics)',\n",
       " 'University of Maine',\n",
       " 'Under the Dome (novel)',\n",
       " 'Doctor Sleep (2019 film)',\n",
       " 'Dennis Etchison',\n",
       " 'The Stand (2020 miniseries)',\n",
       " 'Richard Matheson']"
      ]
     },
     "execution_count": 15,
     "metadata": {},
     "output_type": "execute_result"
    }
   ],
   "source": [
    "list(cards.keys())"
   ]
  },
  {
   "cell_type": "code",
   "execution_count": 16,
   "id": "ffd0c1a3",
   "metadata": {},
   "outputs": [
    {
     "data": {
      "text/plain": [
       "'Steven Arnold King (born May 28, 1949) is an American politician and businessman who served as a U.S. representative from Iowa from 2003 to 2021. A member of the Republican Party, he represented the 5th congressional district until redistricting meant he began representing the 4th district.\\nBorn in 1949 in Storm Lake, Iowa, King attended Northwest Missouri State University from 1967 to 1970. He founded a construction company in 1975 and worked in business and environmental study before seeking the Republican nomination for a seat in the Iowa Senate in 1996. He won the primary and the general election, and was reelected in 2000. In 2002 King was elected to the U.S. House of Representatives from Iowa\\'s 5th congressional district after the incumbent, Tom Latham, was reassigned to the 4th district after redistricting. He was reelected four times before the 2010 United States Census removed the 5th district and placed King in the 4th, which he represented from 2013.\\nKing is an opponent of immigration and multiculturalism, and has a long history of racist and anti-immigrant rhetoric and white-nationalist affiliations. The Washington Post described King as \"the Congressman most openly affiliated with white nationalism.\" King has been criticized for alleged affiliation with white supremacist ideas, and has made controversial statements against immigrants, and supported European right-wing populist and far-right politicians accused of racism, anti-Semitism and Islamophobia.For much of King\\'s congressional tenure, Republican politicians and officials were silent about his rhetoric, and frequently sought his endorsement and campaigned with him because of his popularity with northwest Iowa\\'s conservative voters. Shortly before the 2018 election, the National Republican Congressional Committee withdrew funding for King\\'s reelection campaign and its chairman, Steve Stivers, condemned King\\'s conduct, although Iowa\\'s Republican senators and governor continued to endorse him. King was narrowly reelected, but after a January 2019 interview in which he questioned the negative connotations of the terms \"white nationalist\" and \"white supremacy\", he was widely condemned by both parties, the media and public figures, and the Republican Steering Committee removed him from all House committee assignments. King ran for reelection but, campaign funding and support having declined, lost the June 2020 Republican primary to Randy Feenstra by 10 points.'"
      ]
     },
     "execution_count": 16,
     "metadata": {},
     "output_type": "execute_result"
    }
   ],
   "source": [
    "cards['Steve King']"
   ]
  },
  {
   "cell_type": "markdown",
   "id": "fcf23d6d",
   "metadata": {},
   "source": [
    "So we have a bug here: the politician Steve King is barely related to the author Stephen King, but the algorithm thinks they're related, perhaps because of simple occurrence of the word \"king\" on both pages. We could solve this by teaching the algorithm to be more discerning when counting tokens, and exclude tokens that appear in article titles."
   ]
  },
  {
   "cell_type": "code",
   "execution_count": 17,
   "id": "47e24553",
   "metadata": {},
   "outputs": [
    {
     "data": {
      "text/plain": [
       "[('Stephen King', nan),\n",
       " ('Steve King', 0.21892323443059183),\n",
       " ('Carrie (novel)', 0.1683257157658417),\n",
       " ('Stephen King bibliography', 0.16638346527599432),\n",
       " ('The Dark Tower (series)', 0.15873452357204787),\n",
       " ('Stephen King short fiction bibliography', 0.13988239892484455),\n",
       " ('Rose Red (miniseries)', 0.12039102418502666),\n",
       " ('Paul LePage', 0.10800243471183366),\n",
       " ('Joe Hill (novelist)', 0.10666957210497816),\n",
       " ('The Dark Tower (2017 film)', 0.09471512119232056),\n",
       " ('The Stand (1994 miniseries)', 0.0935565049076569),\n",
       " ('Randall Flagg', 0.09314208354728183),\n",
       " ('Maximum Overdrive', 0.09285764125525463),\n",
       " ('The Stand', 0.09204918305809294),\n",
       " ('The Shining (franchise)', 0.08659239170059718),\n",
       " ('The Shining (film)', 0.08380003011372747),\n",
       " ('11/22/63', 0.08061063292253817),\n",
       " ('Carrie (1976 film)', 0.0790608850019245),\n",
       " ('Horror fiction', 0.07832873458350832),\n",
       " ('Castle Rock (Stephen King)', 0.07702165956166025),\n",
       " ('It (miniseries)', 0.07496228801722502),\n",
       " ('Ramsey Campbell', 0.07470724394658211),\n",
       " ('Simon & Schuster', 0.07084009108225563),\n",
       " ('Genre fiction', 0.07062679826147222),\n",
       " ('The Dark Tower (comics)', 0.06891775878780439),\n",
       " ('University of Maine', 0.0683340962287591),\n",
       " ('Under the Dome (novel)', 0.0678839168980876),\n",
       " ('Doctor Sleep (2019 film)', 0.06774983643854463),\n",
       " ('Dennis Etchison', 0.06542557863322859),\n",
       " ('The Stand (2020 miniseries)', 0.06461101735483239),\n",
       " ('Richard Matheson', 0.06426162622874498),\n",
       " ('Orson Scott Card', 0.06382614093441538),\n",
       " ('Kingdom Hospital', 0.06344329729137527),\n",
       " ('2018 Maine gubernatorial election', 0.06325998296547715),\n",
       " ('Carrie (2013 film)', 0.06305361698413842),\n",
       " ('The Magazine of Fantasy & Science Fiction', 0.06031682164049767),\n",
       " ('Carrie (2002 film)', 0.05980774502204094),\n",
       " ('Boston Red Sox', 0.05951580601587429),\n",
       " ('Joseph Payne Brennan', 0.05924443629399938),\n",
       " ('British Fantasy Award', 0.05898236005850437),\n",
       " ('Haven (TV series)', 0.058775599513378074),\n",
       " ('Castle Rock (TV series)', 0.058726282918691926),\n",
       " ('Lloyd Alexander', 0.0586324781502353),\n",
       " ('Creepshow', 0.05848777838779671),\n",
       " ('It (2017 film)', 0.05817174028989787),\n",
       " ('George R. R. Martin', 0.057637383519694746),\n",
       " ('Apocalyptic and post-apocalyptic fiction', 0.05755358408865893),\n",
       " ('Alan Moore', 0.05726975819881701),\n",
       " ('Robert Bloch', 0.05702248859091449),\n",
       " ('Apt Pupil (film)', 0.05674379273518955),\n",
       " ('Pet Sematary (1989 film)', 0.056667474769523225),\n",
       " (\"Salem's Lot (1979 miniseries)\", 0.056101198344400235),\n",
       " ('Gothic fiction', 0.05602461540693553),\n",
       " ('The Mist (film)', 0.05562616461606354),\n",
       " ('Ray Bradbury', 0.055102618087034844),\n",
       " ('The Shawshank Redemption', 0.054279084955623225),\n",
       " ('Carrie (musical)', 0.05373257756688409),\n",
       " ('Joe R. Lansdale', 0.053653434225165816),\n",
       " ('11.22.63', 0.053629572309150234),\n",
       " ('Harlan Ellison', 0.05350703437765237),\n",
       " ('2004 World Series', 0.053322665665436475),\n",
       " ('Elmore Leonard', 0.052652159296764346),\n",
       " ('Christine (1983 film)', 0.051956762716298545),\n",
       " ('John D. MacDonald', 0.05178475710132986),\n",
       " ('National Book Award', 0.05083499349354703),\n",
       " ('Bangor, Maine', 0.05078514906217869),\n",
       " ('Stand by Me (film)', 0.05077375971085321),\n",
       " ('2004 Boston Red Sox season', 0.05061778237093589),\n",
       " ('Scott Snyder', 0.05055116638105078),\n",
       " ('Fritz Leiber', 0.05054739658437781),\n",
       " ('Ken Liu', 0.05039630462693437),\n",
       " ('Frank Belknap Long', 0.049724489116952555),\n",
       " ('Neil Gaiman', 0.049612473922412796),\n",
       " ('Michael Moorcock', 0.04876830628113085),\n",
       " ('Caitlín R. Kiernan', 0.04809037736607369),\n",
       " ('Tanith Lee', 0.04807788967889815),\n",
       " ('It (novel)', 0.048054350893614116),\n",
       " ('The Stanley Hotel', 0.04803604967531077),\n",
       " ('Lewiston, Maine', 0.04785217696702711),\n",
       " ('George Saunders', 0.04738038446728871),\n",
       " ('EC Comics', 0.04662863942314759),\n",
       " ('Philip José Farmer', 0.046329763562215666),\n",
       " ('Portland, Maine', 0.04624127439712415),\n",
       " ('The Outsider (miniseries)', 0.04536285404500805),\n",
       " ('Under the Dome (TV series)', 0.04505771648535588),\n",
       " ('Gene Wolfe', 0.04476882577739348),\n",
       " ('Stan Lee', 0.04470352330924392),\n",
       " ('Blue Öyster Cult', 0.044529406651178625),\n",
       " ('Manly Wade Wellman', 0.04362303424706346),\n",
       " ('John M. Ford', 0.043615834318385054),\n",
       " ('L. Sprague de Camp', 0.0435927723925698),\n",
       " ('Los Angeles Times Book Prize', 0.043203184922539),\n",
       " ('Julia Alvarez', 0.043105541601436426),\n",
       " (\"Madeleine L'Engle\", 0.042914268724924265),\n",
       " ('Arthur Machen', 0.042828130649175365),\n",
       " ('Fantasy', 0.042749567063871334),\n",
       " ('Ursula K. Le Guin', 0.042343390259718484),\n",
       " ('Michael Jackson', 0.04227946456953643),\n",
       " ('James Taylor', 0.042228337817435194),\n",
       " ('Glenn Beck', 0.04206183787736352),\n",
       " ('Alan Garner', 0.04198496774664941),\n",
       " ('Terry Pratchett', 0.041801166043910744),\n",
       " ('Mitch Albom', 0.041661897891062165),\n",
       " ('Marv Wolfman', 0.041540293760345876),\n",
       " ('H. P. Lovecraft', 0.04092419016198702),\n",
       " ('Christopher Lee', 0.04089824980067087),\n",
       " ('World Fantasy Award', 0.04087297203069309),\n",
       " ('Hugo Award', 0.040790510485363696),\n",
       " ('Creepshow (TV series)', 0.040681817041230396),\n",
       " ('Theodore Sturgeon', 0.040397835175010915),\n",
       " ('The Masque of the Red Death', 0.03975538778955717),\n",
       " ('Audiobook', 0.03955914294731003),\n",
       " ('Adventures of Huckleberry Finn', 0.03910177159549085),\n",
       " ('Edgar Allan Poe', 0.03882225435207792),\n",
       " ('Tales from the Crypt (comics)', 0.03867914372653027),\n",
       " ('Mr. Mercedes (TV series)', 0.03865746154898982),\n",
       " ('DC Comics', 0.03853202022853438),\n",
       " ('Elizabeth Warren', 0.03845729795233157),\n",
       " ('Matt Groening', 0.03839782518966936),\n",
       " ('Charles de Lint', 0.03827970600016905),\n",
       " ('Clive Barker', 0.038220235151826175),\n",
       " ('Anne Rice', 0.038016971470559185),\n",
       " ('Charles Vess', 0.037991739483290286),\n",
       " ('Joyce Carol Oates', 0.03790838229597214),\n",
       " ('Chris Claremont', 0.03782615158806811),\n",
       " ('Rick Scott', 0.037687868863362645),\n",
       " ('World Fantasy Award—Short Fiction', 0.03750707175413882),\n",
       " ('Andre Norton', 0.03723084899003433),\n",
       " ('Lord of the Flies', 0.03705158043766842),\n",
       " ('Creepshow 2', 0.03688353583347441),\n",
       " ('2014 United States Senate election in Maine', 0.03684633534874838),\n",
       " ('The Castle of Otranto', 0.03679798485254084),\n",
       " ('Time (magazine)', 0.03618848897392375),\n",
       " ('Charles L. Grant', 0.036181644889038495),\n",
       " (\"Artist's book\", 0.03604936027032584),\n",
       " ('It Chapter Two', 0.035918158016577856),\n",
       " ('J. R. R. Tolkien', 0.03568433619897575),\n",
       " ('Forrest J Ackerman', 0.03565337065665419),\n",
       " ('Jack Williamson', 0.035565045694233986),\n",
       " ('Nineteen Eighty-Four', 0.03547319297777291),\n",
       " ('Bram Stoker Award for Novel', 0.03534561977623366),\n",
       " ('Light in August', 0.03522865767320665),\n",
       " ('Jack Vance', 0.035193485759203405),\n",
       " ('Robert Aickman', 0.03485365576652841),\n",
       " ('Fanzine', 0.03461064789080315),\n",
       " ('Susan Collins', 0.03458704091847835),\n",
       " ('Barack Obama', 0.03431574865087881),\n",
       " (\"(Don't Fear) The Reaper\", 0.03423917702114039),\n",
       " ('R. L. Stine', 0.03421472743554499),\n",
       " ('Superman', 0.03420526960891105),\n",
       " (\"Lisey's Story (miniseries)\", 0.033737469024526366),\n",
       " ('Marion Zimmer Bradley', 0.03367976915117772),\n",
       " ('Amazon Kindle', 0.033616668592274794),\n",
       " ('Rita Dove', 0.033317065678434225),\n",
       " ('San Diego Comic-Con', 0.03325945061721379),\n",
       " ('X-Men', 0.03317966778483668),\n",
       " ('Harper Lee', 0.033065806363778955),\n",
       " ('Bronson Arroyo', 0.03303383556268622),\n",
       " ('Diana Wynne Jones', 0.03299563714425661),\n",
       " ('Donald A. Wollheim', 0.03298540441060435),\n",
       " ('Mel Brooks', 0.03293015614795999),\n",
       " ('Philip Glass', 0.0329192915424527),\n",
       " ('Horace Walpole', 0.032604559393988396),\n",
       " ('John Mellencamp', 0.032511029411615905),\n",
       " ('Entertainment Weekly', 0.03236389137631128),\n",
       " ('Major League Baseball', 0.032347890934713616),\n",
       " ('2020 United States presidential election', 0.03225658655233796),\n",
       " ('Chicago', 0.03219743511935501),\n",
       " ('Shooter Jennings', 0.03203948039937336),\n",
       " ('Blood Meridian', 0.031808162624850686),\n",
       " ('The Guardian', 0.03168239278540921),\n",
       " ('Esquire (magazine)', 0.0316388641554749),\n",
       " ('Foo Fighters', 0.031614598900347235),\n",
       " ('Kij Johnson', 0.031597345373746866),\n",
       " ('Gary Hart', 0.03151697928303443),\n",
       " ('Scott Walker (politician)', 0.03138657673145709),\n",
       " ('Sandra Cisneros', 0.031164157251396107),\n",
       " ('The X-Files', 0.03084616722601252),\n",
       " ('George Lucas', 0.03063589880776552),\n",
       " ('Fangoria', 0.03060463621755986),\n",
       " ('The Green Mile (film)', 0.03056163502123733),\n",
       " ('John Carpenter', 0.030326095431932022),\n",
       " ('Arkham House', 0.0302024222688618),\n",
       " ('The Sunday Times', 0.0298771269818101),\n",
       " ('Harold Bloom', 0.029646217680030167),\n",
       " ('Robert Brustein', 0.029627944260466943),\n",
       " ('Sandy Hook Elementary School shooting', 0.029616605755607355),\n",
       " ('Batman', 0.02960742929240374),\n",
       " ('William Peter Blatty', 0.02959391200421147),\n",
       " ('Clint Eastwood', 0.028321569218765455),\n",
       " ('Library of Congress', 0.028237814962786486),\n",
       " ('Gun politics in the United States', 0.02801544976508442),\n",
       " ('Morgan Freeman', 0.02783531251967596),\n",
       " ('Duel (1971 film)', 0.027740848416846372),\n",
       " ('The Economist', 0.027402100090673776),\n",
       " ('Joe Biden 2020 presidential campaign', 0.027321954449585167),\n",
       " ('Barbara Kruger', 0.027277190670909026),\n",
       " ('Video game controversies', 0.02716189538953177),\n",
       " ('CBS', 0.026905367430053645),\n",
       " ('Sarasota, Florida', 0.026872188424486205),\n",
       " ('Toby Keith', 0.026817809266773858),\n",
       " ('Alfred A. Knopf', 0.026723443650434275),\n",
       " ('Elaine May', 0.02668428423100968),\n",
       " ('Google Books', 0.02648984426783412),\n",
       " ('Middle-earth', 0.026476027338300852),\n",
       " ('Donald Trump', 0.02635120284629731),\n",
       " ('Joe Biden', 0.02625753050780338),\n",
       " ('Treehouse of Horror V', 0.026149631703051457),\n",
       " ('Linda Ronstadt', 0.02599168063547945),\n",
       " ('USA Today', 0.025952945711673087),\n",
       " ('Quincy Jones', 0.025560159821177),\n",
       " ('Roald Dahl', 0.025503962319300123),\n",
       " ('The Paris Review', 0.02525322022728631),\n",
       " ('Croton-on-Hudson, New York', 0.025058489961615128),\n",
       " ('Nigel Kneale', 0.024943670905552814),\n",
       " ('Spaghetti Western', 0.024837196284345688),\n",
       " ('Jorge Luis Borges', 0.024802650657611763),\n",
       " ('Sergio Leone', 0.024767108183734607),\n",
       " ('The Three Stooges', 0.02469712327537006),\n",
       " ('Elizabeth Warren 2020 presidential campaign', 0.0245976364681768),\n",
       " ('Bleak House', 0.02456197140488134),\n",
       " ('Cover version', 0.024299386322274075),\n",
       " ('Tea Party movement', 0.024260249956837645),\n",
       " ('World Fantasy Award—Life Achievement', 0.02398471713249589),\n",
       " ('Russell Kirk', 0.02398091444085819),\n",
       " ('C-SPAN', 0.023922258768482963),\n",
       " ('Twitter', 0.023849469834555333),\n",
       " ('The Daily Beast', 0.02380305899849568),\n",
       " ('Bill T. Jones', 0.02361139457735107),\n",
       " ('Sally Field', 0.023476136273515445),\n",
       " ('National Endowment for the Arts', 0.023444797454384547),\n",
       " ('Italo Calvino', 0.023440085628560866),\n",
       " ('Boulder, Colorado', 0.023407872905445565),\n",
       " ('Audra McDonald', 0.02325977711151114),\n",
       " ('Sons of Anarchy', 0.02298874118878767),\n",
       " ('Stratford, Connecticut', 0.02277490585996815),\n",
       " ('Meryl Streep', 0.022483457747977328),\n",
       " ('Fourth wall', 0.022339363151749923),\n",
       " ('Ellsworth Kelly', 0.022207914248540805),\n",
       " ('No Smoking (2007 film)', 0.022139725163933973),\n",
       " ('American Library Association', 0.021985694697104388),\n",
       " ('Fort Wayne, Indiana', 0.02189416114386348),\n",
       " ('Mark di Suvero', 0.021608290299993626),\n",
       " ('The Mist (TV series)', 0.021510565858128997),\n",
       " ('Frank Frazetta', 0.02118671651360832),\n",
       " ('Ann Hamilton (artist)', 0.021106683892136328),\n",
       " ('Roger Corman', 0.020963362033534407),\n",
       " ('Plantation, Florida', 0.020930724169143433),\n",
       " ('Germany', 0.02076231677280009),\n",
       " ('Hayao Miyazaki', 0.020531064195100517),\n",
       " ('Internet', 0.020367623782300167),\n",
       " ('Unitarian Universalism', 0.020246698067881035),\n",
       " ('Tony Kushner', 0.02013040989604855),\n",
       " ('NPR', 0.01990671496549226),\n",
       " ('Alison Krauss', 0.01988484767529245),\n",
       " ('2020 Democratic Party presidential primaries', 0.019692555755034098),\n",
       " ('Edward Gorey', 0.01969130665907797),\n",
       " ('Famine', 0.019590073911079142),\n",
       " ('Jon Voight', 0.019553342949363364),\n",
       " ('Renée Fleming', 0.019407502887719023),\n",
       " ('Allen Toussaint', 0.01920481747922289),\n",
       " ('National Magazine Awards', 0.019028240568389483),\n",
       " ('Ford Pinto', 0.01890565556926167),\n",
       " ('IMDb', 0.0187803763475682),\n",
       " ('James Turrell', 0.018703996836046455),\n",
       " ('Malden, Massachusetts', 0.018571657600558022),\n",
       " ('John Baldessari', 0.01855685745719247),\n",
       " ('BBC News', 0.01854085386818794),\n",
       " ('University of Massachusetts Lowell', 0.018378374622699926),\n",
       " ('Frasier', 0.018144390070462677),\n",
       " ('Forbes', 0.017258983387653175),\n",
       " ('Albert and David Maysles', 0.017063519195914135),\n",
       " ('World War II', 0.01692452014602821),\n",
       " ('Oleg Sentsov', 0.016903758362712854),\n",
       " ('EBay', 0.016618266423060704),\n",
       " ('Al Pacino', 0.016397396255975603),\n",
       " ('Jeffrey Katzenberg', 0.016296890511039948),\n",
       " ('Gulf of Mexico', 0.01591752219884879),\n",
       " ('United States military bands', 0.01579731678083702),\n",
       " ('Sonny Rollins', 0.01551838396932966),\n",
       " ('Fountain pen', 0.015473061573932434),\n",
       " ('National Medal of Arts', 0.01506468709204329),\n",
       " ('Reckless driving', 0.014963669121913993),\n",
       " ('PBS', 0.014909566400149305),\n",
       " ('Pitcher', 0.014241773191582253),\n",
       " ('Cocaine', 0.014151307743452305),\n",
       " ('Dowsing', 0.01401154083463575),\n",
       " ('Berry Gordy', 0.013792468988240035),\n",
       " ('Physical therapy', 0.013713186284147402),\n",
       " ('Herb Alpert', 0.01351810637404273),\n",
       " ('Van Cliburn', 0.013031317549513812),\n",
       " ('Newsnight', 0.012830932322551225),\n",
       " ('Wayback Machine', 0.012682669557719324),\n",
       " ('CBS News', 0.011842017739851468),\n",
       " ('Mouthwash', 0.011743803574256443),\n",
       " ('Ramstein Air Base', 0.010793970181099007),\n",
       " ('CBS Corporation', 0.009795465932648467),\n",
       " ('Alex Awards', 0.008244497273983312),\n",
       " ('Kono Mystery ga Sugoi!', 0.008001503100802533),\n",
       " ('Alprazolam', 0.006065744224213107),\n",
       " ('Cold medicine', 0.005151634368020748)]"
      ]
     },
     "execution_count": 17,
     "metadata": {},
     "output_type": "execute_result"
    }
   ],
   "source": [
    "all_similars"
   ]
  },
  {
   "cell_type": "markdown",
   "id": "d7ca1f30",
   "metadata": {},
   "source": [
    "Anyway, I think I'm going to wrap up this demo notebook. Thanks for taking the time to look at it! Please feel free to give the script a try yourself and let me know if you encounter any odd behavior or interesting results."
   ]
  }
 ],
 "metadata": {
  "kernelspec": {
   "display_name": "Python 3 (ipykernel)",
   "language": "python",
   "name": "python3"
  },
  "language_info": {
   "codemirror_mode": {
    "name": "ipython",
    "version": 3
   },
   "file_extension": ".py",
   "mimetype": "text/x-python",
   "name": "python",
   "nbconvert_exporter": "python",
   "pygments_lexer": "ipython3",
   "version": "3.9.7"
  }
 },
 "nbformat": 4,
 "nbformat_minor": 5
}
